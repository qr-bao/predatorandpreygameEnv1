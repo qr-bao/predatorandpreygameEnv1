{
 "cells": [
  {
   "cell_type": "markdown",
   "metadata": {},
   "source": [
    "main.py"
   ]
  },
  {
   "cell_type": "code",
   "execution_count": 1,
   "metadata": {},
   "outputs": [
    {
     "name": "stderr",
     "output_type": "stream",
     "text": [
      "<frozen importlib._bootstrap>:228: RuntimeWarning: Your system is avx2 capable but pygame was not built with support for it. The performance of some of your blits could be adversely affected. Consider enabling compile time detection with environment variables like PYGAME_DETECT_AVX2=1 if you are compiling without cross compilation.\n"
     ]
    },
    {
     "name": "stdout",
     "output_type": "stream",
     "text": [
      "pygame 2.6.0 (SDL 2.30.5, Python 3.9.16)\n",
      "Hello from the pygame community. https://www.pygame.org/contribute.html\n"
     ]
    }
   ],
   "source": [
    "import pygame\n",
    "import random\n",
    "import matplotlib.pyplot as plt\n",
    "from matplotlib.backends.backend_agg import FigureCanvasAgg as FigureCanvas\n",
    "from simulator import Simulator\n",
    "import constants"
   ]
  },
  {
   "cell_type": "code",
   "execution_count": 2,
   "metadata": {},
   "outputs": [
    {
     "data": {
      "text/plain": [
       "(5, 0)"
      ]
     },
     "execution_count": 2,
     "metadata": {},
     "output_type": "execute_result"
    }
   ],
   "source": [
    "pygame.init()"
   ]
  },
  {
   "cell_type": "markdown",
   "metadata": {},
   "source": [
    "设置全屏窗口"
   ]
  },
  {
   "cell_type": "code",
   "execution_count": 3,
   "metadata": {},
   "outputs": [],
   "source": [
    "screen = pygame.display.set_mode((0, 0), pygame.FULLSCREEN)\n",
    "pygame.display.set_caption(\"Control Panel and Game Space\")"
   ]
  },
  {
   "cell_type": "markdown",
   "metadata": {},
   "source": [
    "获取屏幕尺寸"
   ]
  },
  {
   "cell_type": "code",
   "execution_count": 4,
   "metadata": {},
   "outputs": [],
   "source": [
    "screen_width, screen_height = screen.get_size()\n",
    "#print(screen_width)\n",
    "#print(screen_height)"
   ]
  },
  {
   "cell_type": "markdown",
   "metadata": {},
   "source": [
    "字体设置"
   ]
  },
  {
   "cell_type": "code",
   "execution_count": 6,
   "metadata": {},
   "outputs": [],
   "source": [
    "font = pygame.font.Font(None, constants.FONT_SIZE)"
   ]
  },
  {
   "cell_type": "markdown",
   "metadata": {},
   "source": [
    "侧边栏宽度"
   ]
  },
  {
   "cell_type": "code",
   "execution_count": 7,
   "metadata": {},
   "outputs": [],
   "source": [
    "sidebar_width = constants.CONTROL_PANEL_WIDTH"
   ]
  },
  {
   "cell_type": "markdown",
   "metadata": {},
   "source": [
    "按钮配置"
   ]
  },
  {
   "cell_type": "code",
   "execution_count": null,
   "metadata": {},
   "outputs": [],
   "source": [
    "buttons = [\n",
    "    pygame.Rect(50, 100, constants.BUTTON_WIDTH, constants.BUTTON_HEIGHT),\n",
    "    pygame.Rect(50, 100 + (constants.BUTTON_HEIGHT + constants.BUTTON_MARGIN), constants.BUTTON_WIDTH, constants.BUTTON_HEIGHT),\n",
    "    pygame.Rect(50, 100 + 2 * (constants.BUTTON_HEIGHT + constants.BUTTON_MARGIN), constants.BUTTON_WIDTH, constants.BUTTON_HEIGHT)\n",
    "]"
   ]
  },
  {
   "cell_type": "code",
   "execution_count": null,
   "metadata": {},
   "outputs": [],
   "source": [
    "slow_button = pygame.Rect(50, 100 + 3 * (constants.BUTTON_HEIGHT + constants.BUTTON_MARGIN), constants.BUTTON_WIDTH, constants.BUTTON_HEIGHT)"
   ]
  },
  {
   "cell_type": "markdown",
   "metadata": {},
   "source": [
    "定义游戏状态"
   ]
  },
  {
   "cell_type": "code",
   "execution_count": null,
   "metadata": {},
   "outputs": [],
   "source": [
    "game_state = constants.MAIN_MENU"
   ]
  },
  {
   "cell_type": "markdown",
   "metadata": {},
   "source": [
    "初始化模拟器"
   ]
  },
  {
   "cell_type": "code",
   "execution_count": null,
   "metadata": {},
   "outputs": [],
   "source": [
    "sim = Simulator(screen_width, screen_height)"
   ]
  },
  {
   "cell_type": "markdown",
   "metadata": {},
   "source": [
    "初始化帧率"
   ]
  },
  {
   "cell_type": "code",
   "execution_count": null,
   "metadata": {},
   "outputs": [],
   "source": [
    "fps = constants.DEFAULT_FPS\n",
    "clock = pygame.time.Clock()"
   ]
  },
  {
   "cell_type": "markdown",
   "metadata": {},
   "source": [
    "迭代计数器"
   ]
  },
  {
   "cell_type": "code",
   "execution_count": null,
   "metadata": {},
   "outputs": [],
   "source": [
    "iteration_count = 0"
   ]
  },
  {
   "cell_type": "markdown",
   "metadata": {},
   "source": [
    "初始化数据记录结构"
   ]
  },
  {
   "cell_type": "code",
   "execution_count": null,
   "metadata": {},
   "outputs": [],
   "source": [
    "prey_counts = []\n",
    "predator_counts = []\n",
    "prey_born_count = 0\n",
    "predator_born_count = 0"
   ]
  },
  {
   "cell_type": "markdown",
   "metadata": {},
   "source": [
    "创建图表"
   ]
  },
  {
   "cell_type": "code",
   "execution_count": null,
   "metadata": {},
   "outputs": [],
   "source": [
    "fig, ax = plt.subplots(figsize=(3, 2))  # 设置图表尺寸适应侧边栏\n",
    "canvas = FigureCanvas(fig)"
   ]
  },
  {
   "cell_type": "code",
   "execution_count": null,
   "metadata": {},
   "outputs": [],
   "source": [
    "def update_plot(prey_counts, predator_counts):\n",
    "    ax.clear()\n",
    "    ax.plot(prey_counts, label=\"Prey\", color='blue')\n",
    "    ax.plot(predator_counts, label=\"Predator\", color='red')\n",
    "    ax.legend(loc='upper right')\n",
    "    ax.set_title(\"Population Over Time\")\n",
    "    canvas.draw()"
   ]
  },
  {
   "cell_type": "code",
   "execution_count": null,
   "metadata": {},
   "outputs": [],
   "source": [
    "def blit_plot():\n",
    "    raw_data = canvas.tostring_rgb()\n",
    "    size = canvas.get_width_height()\n",
    "    plot_surface = pygame.image.fromstring(raw_data, size, \"RGB\")\n",
    "    return plot_surface"
   ]
  },
  {
   "cell_type": "markdown",
   "metadata": {},
   "source": [
    "游戏主循环"
   ]
  },
  {
   "cell_type": "code",
   "execution_count": null,
   "metadata": {},
   "outputs": [],
   "source": [
    "running = True\n",
    "selected_agent = None"
   ]
  },
  {
   "cell_type": "code",
   "execution_count": null,
   "metadata": {},
   "outputs": [],
   "source": [
    "while running:\n",
    "    delta_time = clock.get_time() / 1000.0  # 计算帧时间，单位为秒\n",
    "    for event in pygame.event.get():\n",
    "        if event.type == pygame.QUIT:\n",
    "            running = False\n",
    "        elif event.type == pygame.MOUSEBUTTONDOWN:\n",
    "            if game_state == constants.MAIN_MENU:\n",
    "                for button in buttons:\n",
    "                    if button.collidepoint(event.pos):\n",
    "                        if buttons.index(button) == 0:\n",
    "                            game_state = constants.IN_GAME\n",
    "                            sim.initialize()\n",
    "                            print(\"Game Started\")\n",
    "            elif game_state == constants.IN_GAME:\n",
    "                if slow_button.collidepoint(event.pos):\n",
    "                    fps = constants.SLOW_FPS if fps == constants.DEFAULT_FPS else constants.DEFAULT_FPS\n",
    "                else:\n",
    "                    selected_agent = sim.get_agent_info(event.pos)\n",
    "                    if selected_agent:\n",
    "                        selected_agent.selected = True\n",
    "                        for agent in sim.predators + sim.prey:\n",
    "                            if agent != selected_agent:\n",
    "                                agent.selected = False\n",
    "                    else:\n",
    "                        for agent in sim.predators + sim.prey:\n",
    "                            agent.selected = False\n",
    "        elif event.type == pygame.KEYDOWN:\n",
    "            if event.key == pygame.K_ESCAPE:\n",
    "                if game_state == constants.IN_GAME:\n",
    "                    game_state = constants.MAIN_MENU\n",
    "                    selected_agent = None\n",
    "                    for agent in sim.predators + sim.prey:\n",
    "                        agent.selected = False\n",
    "    screen.fill((0,0, 0))\n",
    "\n",
    "    # 绘制侧边栏背景\n",
    "    pygame.draw.rect(screen, (50, 50, 50), (0, 0, sidebar_width, screen_height))\n",
    "    if game_state == constants.MAIN_MENU:\n",
    "        for button in buttons:\n",
    "            color = constants.BUTTON_HOVER_COLOR if button.collidepoint(pygame.mouse.get_pos()) else constants.BUTTON_COLOR\n",
    "            pygame.draw.rect(screen, color, button)\n",
    "            text = font.render(constants.BUTTON_TEXTS[buttons.index(button)], True, (255, 255, 255))\n",
    "            screen.blit(text, (button.x + (constants.BUTTON_WIDTH - text.get_width()) // 2, button.y + (constants.BUTTON_HEIGHT - text.get_height()) // 2))\n",
    "    elif game_state == constants.IN_GAME:\n",
    "        sim.check_events()\n",
    "        sim.add_food()  # 传递时间间隔\n",
    "        sim.move_models()\n",
    "        sim.prey_hunt()\n",
    "        sim.predator_hunt()\n",
    "        sim.decrease_health()  # 更新健康值\n",
    "        sim.remove_dead()  # 清理死亡个体\n",
    "        iteration_count += 1  # 增加迭代计数器\n",
    "        sim.draw_models(screen)\n",
    "\n",
    "        # 每100个回合输出日志\n",
    "        if iteration_count % 10 == 0:\n",
    "            new_prey_born, new_predator_born = sim.applyGeneticAlgorithm()\n",
    "            # prey_born_count += new_prey_born\n",
    "            # predator_born_count += new_predator_born\n",
    "            # print(f\"Iteration {iteration_count}: Current Predators: {len(sim.predators)}, New Predators Born: {predator_born_count}, Predators Died: {sim.dead_predator_count}\")\n",
    "            # prey_born_count = 0\n",
    "            # predator_born_count = 0\n",
    "            # sim.dead_predator_count = 0  # 重置死亡捕食者计数\n",
    "\n",
    "        # 更新数据记录结构\n",
    "        prey_counts.append(len(sim.prey))\n",
    "        predator_counts.append(len(sim.predators))\n",
    "\n",
    "        # 更新并绘制图表\n",
    "        update_plot(prey_counts, predator_counts)\n",
    "        plot_surface = blit_plot()\n",
    "        plot_rect = plot_surface.get_rect(center=(sidebar_width // 2, screen_height // 2))\n",
    "        screen.blit(plot_surface, plot_rect.topleft)\n",
    "        color = constants.BUTTON_HOVER_COLOR if slow_button.collidepoint(pygame.mouse.get_pos()) else constants.BUTTON_COLOR\n",
    "        pygame.draw.rect(screen, color, slow_button)\n",
    "        text = font.render(\"Slow Down\", True, (255, 255, 255))\n",
    "        screen.blit(text, (slow_button.x + (constants.BUTTON_WIDTH - text.get_width()) // 2, slow_button.y + (constants.BUTTON_HEIGHT - text.get_height()) // 2))\n",
    "\n",
    "        # 显示迭代次数\n",
    "        iteration_text = font.render(f\"Iteration: {iteration_count}\", True, (255, 255, 255))\n",
    "        screen.blit(iteration_text, (50, screen_height - 150))\n",
    "        if selected_agent:\n",
    "            agent_info = (\n",
    "                f\"{selected_agent.__class__.__name__}: \"\n",
    "                f\"Position ({selected_agent.rect.x}, {selected_agent.rect.y}), \"\n",
    "                f\"Velocity ({selected_agent.velocity[0]}, {selected_agent.velocity[1]}), \"\n",
    "                f\"Health ({selected_agent.health})\"\n",
    "            )\n",
    "            info_surface = font.render(agent_info, True, (255, 255, 255))\n",
    "            screen.blit(info_surface, (50, screen_height - 100))\n",
    "    pygame.display.flip()\n",
    "    clock.tick(fps)"
   ]
  },
  {
   "cell_type": "code",
   "execution_count": null,
   "metadata": {},
   "outputs": [],
   "source": [
    "pygame.quit()"
   ]
  }
 ],
 "metadata": {
  "kernelspec": {
   "display_name": "Python 3 (ipykernel)",
   "language": "python",
   "name": "python3"
  },
  "language_info": {
   "codemirror_mode": {
    "name": "ipython",
    "version": 3
   },
   "file_extension": ".py",
   "mimetype": "text/x-python",
   "name": "python",
   "nbconvert_exporter": "python",
   "pygments_lexer": "ipython3",
   "version": "3.9.16"
  }
 },
 "nbformat": 4,
 "nbformat_minor": 4
}
